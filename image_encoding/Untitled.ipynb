{
 "cells": [
  {
   "cell_type": "markdown",
   "metadata": {
    "toc": true
   },
   "source": [
    "<h1>Table of Contents<span class=\"tocSkip\"></span></h1>\n",
    "<div class=\"toc\"><ul class=\"toc-item\"><li><span><a href=\"#image-encoding\" data-toc-modified-id=\"image-encoding-1\"><span class=\"toc-item-num\">1&nbsp;&nbsp;</span>image encoding</a></span></li></ul></div>"
   ]
  },
  {
   "cell_type": "code",
   "execution_count": null,
   "metadata": {},
   "outputs": [],
   "source": []
  },
  {
   "cell_type": "markdown",
   "metadata": {},
   "source": [
    "# image encoding\n",
    "is pretty big these days. i reckon it'll only get bigger.\n",
    "\n",
    "marcus directed me towards https://www.deepplanet.ai/, which is fascinating: satellite image data is constantly being generated, so we should absolutely make use of it where we can."
   ]
  },
  {
   "cell_type": "markdown",
   "metadata": {},
   "source": [
    "## what can HTM do?\n",
    "right now, it's fantastic at time-series scalar analysis.\n",
    "image encoding is... less good.\n",
    "graph encoding is even less good; wouldn't know where to begin, and i've written 3 articles about it by now.\n",
    "\n",
    "what sort of scalar data would benefit greatly from time-series 'stateful memory' AI? intelletic's crypto predictions come to mind.\n",
    "- i do wonder how they trained those PPAs.\n",
    "    - 3 listener networks, one for each period length\n",
    "    - you could manually label 'periods' of certain rise/fall patterns, but...\n",
    "    - i think it has a lot to do with their volatility listener\n",
    "- volatility\n",
    "    - straightforward to calculate a rolling_vol based on last X ticks of stock market\n",
    "    - if vol reaches a certain threshold (K std_devs away from mean?), \"pay attention\"\n",
    "    - so does volatility_listening provide a way to \"mine\" labels for the constant-input datastream?\n",
    "        - but then we'd have to determine direction. what's the training/reward system for the HTM?\n",
    "        - since they plug the PPA_net as 'learning from each prediction', we know it's a constantly running HTM system that "
   ]
  },
  {
   "cell_type": "code",
   "execution_count": null,
   "metadata": {},
   "outputs": [],
   "source": []
  },
  {
   "cell_type": "code",
   "execution_count": null,
   "metadata": {},
   "outputs": [],
   "source": []
  },
  {
   "cell_type": "code",
   "execution_count": null,
   "metadata": {},
   "outputs": [],
   "source": []
  },
  {
   "cell_type": "code",
   "execution_count": null,
   "metadata": {},
   "outputs": [],
   "source": []
  },
  {
   "cell_type": "code",
   "execution_count": null,
   "metadata": {},
   "outputs": [],
   "source": []
  },
  {
   "cell_type": "code",
   "execution_count": null,
   "metadata": {},
   "outputs": [],
   "source": []
  },
  {
   "cell_type": "code",
   "execution_count": null,
   "metadata": {},
   "outputs": [],
   "source": []
  },
  {
   "cell_type": "code",
   "execution_count": null,
   "metadata": {},
   "outputs": [],
   "source": []
  }
 ],
 "metadata": {
  "kernelspec": {
   "display_name": "Python 3",
   "language": "python",
   "name": "python3"
  },
  "language_info": {
   "codemirror_mode": {
    "name": "ipython",
    "version": 3
   },
   "file_extension": ".py",
   "mimetype": "text/x-python",
   "name": "python",
   "nbconvert_exporter": "python",
   "pygments_lexer": "ipython3",
   "version": "3.7.4"
  },
  "toc": {
   "base_numbering": 1,
   "nav_menu": {},
   "number_sections": true,
   "sideBar": true,
   "skip_h1_title": false,
   "title_cell": "Table of Contents",
   "title_sidebar": "Contents",
   "toc_cell": true,
   "toc_position": {},
   "toc_section_display": true,
   "toc_window_display": true
  }
 },
 "nbformat": 4,
 "nbformat_minor": 2
}
